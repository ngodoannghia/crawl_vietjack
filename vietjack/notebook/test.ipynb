{
 "cells": [
  {
   "cell_type": "code",
   "execution_count": null,
   "metadata": {},
   "outputs": [],
   "source": [
    "import sys\n",
    "sys.path.append('../')\n",
    "\n",
    "import pandas as pd\n",
    "import os"
   ]
  },
  {
   "cell_type": "code",
   "execution_count": 5,
   "metadata": {},
   "outputs": [],
   "source": [
    "level0_path = f\"../outputs/lop-10\"\n",
    "level1_path = [level0_path + n for n in os.listdir(level0_path) if '.txt' not in n]\n",
    "level2_path, level3_path, level4_path, level5_path, level6_path = [], [], [], [], []\n",
    "for l in level1_path:\n",
    "    level2_path += [l + '/' + n for n in os.listdir(l) if '.txt' not in n]\n",
    "for l in level2_path:\n",
    "    level3_path += [l + '/' + n for n in os.listdir(l) if '.txt' not in n]\n",
    "for l in level3_path:\n",
    "    level4_path += [l + '/' + n for n in os.listdir(l) if '.txt' not in n]\n",
    "for l in level4_path:\n",
    "    level5_path += [l + '/' + n for n in os.listdir(l) if '.txt' not in n]\n"
   ]
  },
  {
   "cell_type": "code",
   "execution_count": 6,
   "metadata": {},
   "outputs": [
    {
     "data": {
      "text/plain": [
       "'../outputs/lop-10/sach-lop-10-canh-dieu/Môn Công nghệ/chuyen-de-dieu_9c6db/chuyen-de-cd_85db2/chuyen-de-cd_4f1f0'"
      ]
     },
     "execution_count": 6,
     "metadata": {},
     "output_type": "execute_result"
    }
   ],
   "source": [
    "level0_path = f\"../outputs/lop-10\"\n",
    "for level0 in os.listdir(level0_path):\n",
    "    level1_path = level0_path + '/' + level0\n",
    "    with open(level1_path + '/' + 'name')\n",
    "    for level1 in os.listdir(level1_path):\n",
    "        level2_path = level1_path + '/' + level1\n",
    "        for level2 in os.listdir(level2_path):\n",
    "            level3_path = level2_path + '/' + level2\n",
    "            for level3 in os.listdir(level3_path):\n",
    "                level4_path = level3_path + '/' + level3\n",
    "                for level4 in os.listdir(level4_path):\n",
    "                    level5_path = level4_path + '/' + level4\n",
    "                    for level5 in os.listdir(level5_path):\n",
    "                        level6_path = level5_path + level5\n"
   ]
  },
  {
   "cell_type": "code",
   "execution_count": null,
   "metadata": {},
   "outputs": [],
   "source": []
  }
 ],
 "metadata": {
  "kernelspec": {
   "display_name": "crawl",
   "language": "python",
   "name": "python3"
  },
  "language_info": {
   "codemirror_mode": {
    "name": "ipython",
    "version": 3
   },
   "file_extension": ".py",
   "mimetype": "text/x-python",
   "name": "python",
   "nbconvert_exporter": "python",
   "pygments_lexer": "ipython3",
   "version": "3.9.18"
  }
 },
 "nbformat": 4,
 "nbformat_minor": 2
}
